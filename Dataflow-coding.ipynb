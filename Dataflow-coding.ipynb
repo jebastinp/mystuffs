{
 "cells": [
  {
   "cell_type": "code",
   "execution_count": 10,
   "id": "adf66397-c2b2-40a4-9fc4-bb089b8dd85b",
   "metadata": {
    "tags": []
   },
   "outputs": [],
   "source": [
    "import apache_beam as beam\n",
    "from apache_beam.options.pipeline_options import PipelineOptions\n",
    "from apache_beam.transforms.combiners import Count, Top\n",
    "from apache_beam import DoFn\n",
    "import json\n",
    "from datetime import datetime"
   ]
  },
  {
   "cell_type": "code",
   "execution_count": 11,
   "id": "61e49311-5078-4045-9d47-db58d31bfc3a",
   "metadata": {
    "tags": []
   },
   "outputs": [],
   "source": [
    "# --- Sample Data ---\n",
    "employee_data= [\n",
    "    {\"id\": 1, \"name\": \"Alice\", \"salary\": 70000, \"department\": \"HR\"},\n",
    "    {\"id\": 2, \"name\": \"Bob\", \"salary\": 60000, \"department\": \"IT\"},\n",
    "    {\"id\": 3, \"name\": \"Charlie\", \"salary\": 70000, \"department\": \"HR\"},\n",
    "    {\"id\": 4, \"name\": \"David\", \"salary\": 55000, \"department\": \"IT\"},\n",
    "    {\"id\": 5, \"name\": \"Eve\", \"salary\": 80000, \"department\": \"Finance\"},\n",
    "    {\"id\": 6, \"name\": \"Frank\", \"salary\": 50000, \"department\": \"Finance\"},\n",
    "    {\"id\": 7, \"name\": \"Grace\", \"salary\": 65000, \"department\": \"HR\"},\n",
    "    {\"id\": 8, \"name\": \"Heidi\", \"salary\": 55000, \"department\": \"IT\"},\n",
    "    {\"id\": 9, \"name\": \"Ivan\", \"salary\": None, \"department\": \"Sales\"},\n",
    "    {\"id\": 10, \"name\": \"Judy\", \"salary\": 80000, \"department\": \"Finance\"}\n",
    "]\n",
    "\n",
    "orders_data = [\n",
    "    {\"order_id\": 1, \"product_name\": \"Laptop\", \"price\": 1200},\n",
    "    {\"order_id\": 2, \"product_name\": \"Mouse\", \"price\": 25},\n",
    "    {\"order_id\": 3, \"product_name\": \"Keyboard\", \"price\": 75},\n",
    "    {\"order_id\": 4, \"product_name\": \"Monitor\", \"price\": 300},\n",
    "    {\"order_id\": 5, \"product_name\": \"Laptop\", \"price\": 1200}\n",
    "]"
   ]
  },
  {
   "cell_type": "code",
   "execution_count": 13,
   "id": "3f3d6cf9-8af9-4bd6-a437-e1f1ac14d73a",
   "metadata": {
    "tags": []
   },
   "outputs": [
    {
     "name": "stderr",
     "output_type": "stream",
     "text": [
      "WARNING:apache_beam.transforms.core:('No iterator is returned by the process method in %s.', <class 'apache_beam.transforms.combiners._TopPerBundle'>)\n"
     ]
    },
    {
     "name": "stdout",
     "output_type": "stream",
     "text": [
      "[('Finance', 3), ('IT', 3), ('HR', 3)]\n"
     ]
    }
   ],
   "source": [
    "# 1. Write an Apache Beam program to find the top 3 most occurring words in a given dataset.\n",
    "with beam.Pipeline() as pipeline:\n",
    "    output = (\n",
    "        pipeline\n",
    "             | 'CreateEmployees' >> beam.Create(employee_data)\n",
    "             | 'ExtractDepartments' >> beam.Map(lambda record: record.get(\"department\"))\n",
    "             | 'FilterNoneDepartments' >> beam.Filter(lambda dept: dept is not None)\n",
    "             | 'PairWithOne' >> beam.Map(lambda dept: (dept, 1))\n",
    "             | 'CountDepartments' >> beam.CombinePerKey(sum)\n",
    "             | 'FindTop3' >> beam.combiners.Top.Of(3, key=lambda kv: kv[1]) # Top 3 by count\n",
    "             | 'PrintResult' >> beam.Map(print)\n",
    "    )\n"
   ]
  },
  {
   "cell_type": "code",
   "execution_count": 16,
   "id": "32cb57bc-dd69-4528-8634-416f191f5c60",
   "metadata": {
    "tags": []
   },
   "outputs": [
    {
     "name": "stdout",
     "output_type": "stream",
     "text": [
      "{'id': 1, 'name': 'Alice', 'salary': 70000, 'department': 'HR'}\n",
      "{'id': 2, 'name': 'Bob', 'salary': 60000, 'department': 'IT'}\n",
      "{'id': 3, 'name': 'Charlie', 'salary': 70000, 'department': 'HR'}\n",
      "{'id': 4, 'name': 'David', 'salary': 55000, 'department': 'IT'}\n",
      "{'id': 5, 'name': 'Eve', 'salary': 80000, 'department': 'Finance'}\n",
      "{'id': 6, 'name': 'Frank', 'salary': 50000, 'department': 'Finance'}\n",
      "{'id': 7, 'name': 'Grace', 'salary': 65000, 'department': 'HR'}\n",
      "{'id': 8, 'name': 'Heidi', 'salary': 55000, 'department': 'IT'}\n",
      "{'id': 9, 'name': 'Ivan', 'salary': None, 'department': 'Sales'}\n",
      "{'id': 10, 'name': 'Judy', 'salary': 80000, 'department': 'Finance'}\n"
     ]
    }
   ],
   "source": [
    "# 2. Given a PCollection, write an Apache Beam code to remove duplicate records.\n",
    "with beam.Pipeline() as pipeline:\n",
    "    output = (\n",
    "        pipeline\n",
    "             | 'CreateOrders' >> beam.Create(employee_data)\n",
    "             | 'KeyRecords' >> beam.Map(lambda record: (tuple(sorted(record.items())), record))\n",
    "             | 'GroupById' >> beam.GroupByKey()\n",
    "             | 'SelectFirstElement' >> beam.Map(lambda kv: kv[1][0]) # Take the first instance of each unique record\n",
    "             | 'PrintResult' >> beam.Map(print)\n",
    "            )\n"
   ]
  },
  {
   "cell_type": "code",
   "execution_count": 20,
   "id": "455103f0-290c-41cc-ae0b-b68207c57bb2",
   "metadata": {
    "tags": []
   },
   "outputs": [
    {
     "name": "stdout",
     "output_type": "stream",
     "text": [
      "De-duplicated by 'product_name': {'order_id': 1, 'product_name': 'Laptop', 'price': 1200}\n",
      "De-duplicated by 'product_name': {'order_id': 2, 'product_name': 'Mouse', 'price': 25}\n",
      "De-duplicated by 'product_name': {'order_id': 3, 'product_name': 'Keyboard', 'price': 75}\n",
      "De-duplicated by 'product_name': {'order_id': 4, 'product_name': 'Monitor', 'price': 300}\n"
     ]
    }
   ],
   "source": [
    "# 2. Given a PCollection, write an Apache Beam code to remove duplicate records.\n",
    "with beam.Pipeline() as pipeline:\n",
    "    output = (\n",
    "        pipeline\n",
    "             | 'CreateOrders' >> beam.Create(orders_data)\n",
    "             # Key each record by the value of the specified column\n",
    "             | 'KeyBySpecifiedColumn' >> beam.Map(lambda record: (record['product_name'], record))\n",
    "             | 'GroupByKey' >> beam.GroupByKey()\n",
    "             # For each group (i.e., for each unique product_name), take only the first record\n",
    "             | 'SelectFirstElementForColumn' >> beam.Map(lambda kv: kv[1][0])\n",
    "             | 'PrintResult' >> beam.Map(lambda x: print(f\"De-duplicated by '{'product_name'}': {x}\"))\n",
    "    )"
   ]
  },
  {
   "cell_type": "code",
   "execution_count": 21,
   "id": "f7b5d532-773d-48f8-abbf-5144b651eaa5",
   "metadata": {
    "tags": []
   },
   "outputs": [
    {
     "name": "stdout",
     "output_type": "stream",
     "text": [
      "('HR', 3)\n",
      "('IT', 3)\n",
      "('Finance', 3)\n",
      "('Sales', 1)\n"
     ]
    }
   ],
   "source": [
    "# 3. How do you perform word count using Apache Beam?\n",
    "\n",
    "with beam.Pipeline() as pipeline:\n",
    "    output = (\n",
    "        pipeline\n",
    "             | 'CreateEmployees' >> beam.Create(employee_data)\n",
    "             | 'ExtractDepartments' >> beam.Map(lambda record: record.get(\"department\"))\n",
    "             | 'FilterNoneDepartments' >> beam.Filter(lambda dept: dept is not None)\n",
    "             | 'PairWithOne' >> beam.Map(lambda dept: (dept, 1))\n",
    "             | 'CountDepartments' >> beam.CombinePerKey(sum)\n",
    "             | 'PrintResult' >> beam.Map(print)\n",
    "    )"
   ]
  },
  {
   "cell_type": "code",
   "execution_count": 22,
   "id": "0f9bcc8b-3e03-4b5f-ac3e-2b024dec1e8c",
   "metadata": {
    "tags": []
   },
   "outputs": [
    {
     "name": "stdout",
     "output_type": "stream",
     "text": [
      "('HR', 68333.33333333333)\n",
      "('IT', 56666.666666666664)\n",
      "('Finance', 70000.0)\n"
     ]
    }
   ],
   "source": [
    "# 4. Write an Apache Beam job to group by a column and calculate the average value.\n",
    "\n",
    "with beam.Pipeline() as pipeline:\n",
    "    output = (\n",
    "        pipeline\n",
    "             | 'CreateEmployees' >> beam.Create(employee_data)\n",
    "             | 'KeyByDepartmentAndSalary' >> beam.Map(lambda record: (record[\"department\"], record.get(\"salary\")))\n",
    "             | 'FilterNoneSalaries' >> beam.Filter(lambda kv: kv[1] is not None)\n",
    "             | 'CalculateAverage' >> beam.CombinePerKey(beam.combiners.MeanCombineFn())\n",
    "             | 'PrintResult' >> beam.Map(print)\n",
    "    )"
   ]
  },
  {
   "cell_type": "code",
   "execution_count": 30,
   "id": "f403e331-e726-4c95-95c0-9d9e12032105",
   "metadata": {
    "tags": []
   },
   "outputs": [
    {
     "name": "stdout",
     "output_type": "stream",
     "text": [
      "('HR', 68333.33)\n",
      "('IT', 56666.67)\n",
      "('Finance', 70000.0)\n"
     ]
    }
   ],
   "source": [
    "# 4. Write an Apache Beam job to group by a column and calculate the average value.\n",
    "\n",
    "with beam.Pipeline() as pipeline:\n",
    "    output = (\n",
    "        pipeline\n",
    "             | 'CreateEmployees' >> beam.Create(employee_data)\n",
    "             | 'KeyByDepartmentAndSalary' >> beam.Map(lambda record: (record[\"department\"], record.get(\"salary\")))\n",
    "             | 'FilterNoneSalaries' >> beam.Filter(lambda kv: kv[1] is not None)\n",
    "             | 'CalculateAverage' >> beam.CombinePerKey(beam.combiners.MeanCombineFn())\n",
    "             | 'RoundAverage' >> beam.Map(lambda kv: (kv[0], round(kv[1], 2))) # Round the average to 2 decimal places\n",
    "             | 'PrintResult' >> beam.Map(print)\n",
    "    )\n"
   ]
  },
  {
   "cell_type": "code",
   "execution_count": 60,
   "id": "0deda4a8-3578-48b4-a13f-2943ae233473",
   "metadata": {
    "tags": []
   },
   "outputs": [
    {
     "name": "stderr",
     "output_type": "stream",
     "text": [
      "WARNING:apache_beam.options.pipeline_options:Discarding unparseable args: ['-f', '/home/jupyter/.local/share/jupyter/runtime/kernel-f62f1ff0-4c41-4fb4-ba3d-6d4f5eb23258.json']\n",
      "WARNING:apache_beam.options.pipeline_options:Discarding unparseable args: ['-f', '/home/jupyter/.local/share/jupyter/runtime/kernel-f62f1ff0-4c41-4fb4-ba3d-6d4f5eb23258.json']\n"
     ]
    },
    {
     "name": "stdout",
     "output_type": "stream",
     "text": [
      "\n",
      "Filtered (No Null Salary): {'id': 1, 'name': 'Alice', 'salary': 70000, 'department': 'HR'}\n",
      "---------------------\n",
      "Filtered (No Null Salary): {'id': 2, 'name': 'Bob', 'salary': 60000, 'department': 'IT'}\n",
      "---------------------\n",
      "Filtered (No Null Salary): {'id': 3, 'name': 'Charlie', 'salary': 70000, 'department': 'HR'}\n",
      "---------------------\n",
      "Filtered (No Null Salary): {'id': 4, 'name': 'David', 'salary': 55000, 'department': 'IT'}\n",
      "---------------------\n",
      "Filtered (No Null Salary): {'id': 5, 'name': 'Eve', 'salary': 80000, 'department': 'Finance'}\n",
      "---------------------\n",
      "Filtered (No Null Salary): {'id': 6, 'name': 'Frank', 'salary': 50000, 'department': 'Finance'}\n",
      "---------------------\n",
      "Filtered (No Null Salary): {'id': 7, 'name': 'Grace', 'salary': 65000, 'department': 'HR'}\n",
      "---------------------\n",
      "Filtered (No Null Salary): {'id': 8, 'name': 'Heidi', 'salary': 55000, 'department': 'IT'}\n",
      "---------------------\n",
      "Filtered (No Null Salary): {'id': 10, 'name': 'Judy', 'salary': 80000, 'department': 'Finance'}\n",
      "---------------------\n",
      "Original: {'id': 1, 'name': 'Alice', 'salary': 70000, 'department': 'HR'}\n",
      "---------------------\n",
      "Original: {'id': 2, 'name': 'Bob', 'salary': 60000, 'department': 'IT'}\n",
      "---------------------\n",
      "Original: {'id': 3, 'name': 'Charlie', 'salary': 70000, 'department': 'HR'}\n",
      "---------------------\n",
      "Original: {'id': 4, 'name': 'David', 'salary': 55000, 'department': 'IT'}\n",
      "---------------------\n",
      "Original: {'id': 5, 'name': 'Eve', 'salary': 80000, 'department': 'Finance'}\n",
      "---------------------\n",
      "Original: {'id': 6, 'name': 'Frank', 'salary': 50000, 'department': 'Finance'}\n",
      "---------------------\n",
      "Original: {'id': 7, 'name': 'Grace', 'salary': 65000, 'department': 'HR'}\n",
      "---------------------\n",
      "Original: {'id': 8, 'name': 'Heidi', 'salary': 55000, 'department': 'IT'}\n",
      "---------------------\n",
      "Original: {'id': 9, 'name': 'Ivan', 'salary': None, 'department': 'Sales'}\n",
      "---------------------\n",
      "Original: {'id': 10, 'name': 'Judy', 'salary': 80000, 'department': 'Finance'}\n",
      "---------------------\n",
      "Filled (Null Salary=0): {'id': 1, 'name': 'Alice', 'salary': 70000, 'department': 'HR'}\n",
      "---------------------\n",
      "\n",
      "Filled (Null Salary=0): {'id': 2, 'name': 'Bob', 'salary': 60000, 'department': 'IT'}\n",
      "---------------------\n",
      "\n",
      "Filled (Null Salary=0): {'id': 3, 'name': 'Charlie', 'salary': 70000, 'department': 'HR'}\n",
      "---------------------\n",
      "\n",
      "Filled (Null Salary=0): {'id': 4, 'name': 'David', 'salary': 55000, 'department': 'IT'}\n",
      "---------------------\n",
      "\n",
      "Filled (Null Salary=0): {'id': 5, 'name': 'Eve', 'salary': 80000, 'department': 'Finance'}\n",
      "---------------------\n",
      "\n",
      "Filled (Null Salary=0): {'id': 6, 'name': 'Frank', 'salary': 50000, 'department': 'Finance'}\n",
      "---------------------\n",
      "\n",
      "Filled (Null Salary=0): {'id': 7, 'name': 'Grace', 'salary': 65000, 'department': 'HR'}\n",
      "---------------------\n",
      "\n",
      "Filled (Null Salary=0): {'id': 8, 'name': 'Heidi', 'salary': 55000, 'department': 'IT'}\n",
      "---------------------\n",
      "\n",
      "Filled (Null Salary=0): {'id': 9, 'name': 'Ivan', 'salary': 0, 'department': 'Sales'}\n",
      "---------------------\n",
      "\n",
      "Filled (Null Salary=0): {'id': 10, 'name': 'Judy', 'salary': 80000, 'department': 'Finance'}\n",
      "---------------------\n",
      "\n"
     ]
    }
   ],
   "source": [
    "# 5. How do you handle missing/null values in an Apache Beam PCollection?\n",
    "options = PipelineOptions()\n",
    "with beam.Pipeline(options=options) as pipeline:\n",
    "        (pipeline\n",
    "         | 'OriginalData' >> beam.Create(employee_data)\n",
    "         | 'PrintOriginal' >> beam.Map(lambda x: print(f\"Original: {x}\"))\n",
    "         | 'PrintOriginalFooter' >> beam.Map(lambda x: print(\"---------------------\")) # Footer for spacing\n",
    "        )\n",
    "        # Filter out records where salary is None - Correctly starts a new branch from 'p'\n",
    "        (pipeline\n",
    "         | 'CreateEmployeesFilter' >> beam.Create(employee_data)\n",
    "         | 'FilterOutNullSalary' >> beam.Filter(lambda record: record.get(\"salary\") is not None)\n",
    "         | 'PrintFiltered' >> beam.Map(lambda x: print(f\"Filtered (No Null Salary): {x}\"))\n",
    "         | 'PrintFilteredFooter' >> beam.Map(lambda x: print(\"---------------------\")) # Footer for spacing\n",
    "        )\n",
    "        print() # This prints after the Filtered PCollection is processed\n",
    "        # Fill None salary with 0 - Correctly starts a new branch from 'p'\n",
    "        (pipeline\n",
    "         | 'CreateEmployeesFill' >> beam.Create(employee_data)\n",
    "         | 'FillNullSalary' >> beam.Map(\n",
    "             lambda record: {**record, 'salary': record['salary'] if record.get('salary') is not None else 0}\n",
    "           )\n",
    "         | 'PrintFilled' >> beam.Map(lambda x: print(f\"Filled (Null Salary=0): {x}\"))\n",
    "         | 'PrintFilledFooter' >> beam.Map(lambda x: print(\"---------------------\\n\")) # Footer for spacing\n",
    "        )"
   ]
  },
  {
   "cell_type": "code",
   "execution_count": 67,
   "id": "521bfb56-7471-4b82-87a5-42df481566da",
   "metadata": {
    "tags": []
   },
   "outputs": [
    {
     "name": "stderr",
     "output_type": "stream",
     "text": [
      "WARNING:apache_beam.options.pipeline_options:Discarding unparseable args: ['-f', '/home/jupyter/.local/share/jupyter/runtime/kernel-f62f1ff0-4c41-4fb4-ba3d-6d4f5eb23258.json']\n",
      "WARNING:apache_beam.options.pipeline_options:Discarding unparseable args: ['-f', '/home/jupyter/.local/share/jupyter/runtime/kernel-f62f1ff0-4c41-4fb4-ba3d-6d4f5eb23258.json']\n"
     ]
    },
    {
     "name": "stdout",
     "output_type": "stream",
     "text": [
      "Distinct Departments: 4\n",
      "Distinct Salaries: 6\n"
     ]
    }
   ],
   "source": [
    "# 6. Write an Apache Beam program to count distinct values in a column.\n",
    "\n",
    "options = PipelineOptions()\n",
    "with beam.Pipeline(options=options) as pipeline:\n",
    "# Count distinct departments\n",
    "            (pipeline\n",
    "             | 'CreateEmployees_Dept' >> beam.Create(employee_data)\n",
    "             | 'ExtractDepartment' >> beam.Map(lambda record: record.get(\"department\"))\n",
    "             | 'FilterNoneDepartments' >> beam.Filter(lambda x: x is not None)\n",
    "             | 'DistinctDepartments' >> beam.Distinct()\n",
    "             | 'CountDistinctDepartments' >> beam.combiners.Count.Globally()\n",
    "             | 'PrintDistinctDepartments' >> beam.Map(lambda count: print(f\"Distinct Departments: {count}\"))\n",
    "            )\n",
    "\n",
    "            # Count distinct salaries\n",
    "            (pipeline\n",
    "             | 'CreateEmployees_Salary' >> beam.Create(employee_data)\n",
    "             | 'ExtractSalary' >> beam.Map(lambda record: record.get(\"salary\"))\n",
    "             | 'FilterNoneSalaries' >> beam.Filter(lambda x: x is not None)\n",
    "             | 'DistinctSalaries' >> beam.Distinct()\n",
    "             | 'CountDistinctSalaries' >> beam.combiners.Count.Globally()\n",
    "             | 'PrintDistinctSalaries' >> beam.Map(lambda count: print(f\"Distinct Salaries: {count}\"))\n",
    "            )\n"
   ]
  },
  {
   "cell_type": "code",
   "execution_count": 83,
   "id": "9e075551-f7c2-4da5-a79d-dc9667559181",
   "metadata": {
    "tags": []
   },
   "outputs": [
    {
     "name": "stderr",
     "output_type": "stream",
     "text": [
      "WARNING:apache_beam.options.pipeline_options:Discarding unparseable args: ['-f', '/home/jupyter/.local/share/jupyter/runtime/kernel-f62f1ff0-4c41-4fb4-ba3d-6d4f5eb23258.json']\n",
      "WARNING:apache_beam.options.pipeline_options:Discarding unparseable args: ['-f', '/home/jupyter/.local/share/jupyter/runtime/kernel-f62f1ff0-4c41-4fb4-ba3d-6d4f5eb23258.json']\n"
     ]
    },
    {
     "name": "stdout",
     "output_type": "stream",
     "text": [
      "\n",
      "--- ORIGINAL DATA ---\n",
      "--- FILTERED DATA (Salary > 50000) ---\n",
      "\n",
      "Filtered: {'id': 1, 'name': 'Alice', 'salary': 70000, 'department': 'HR'}\n",
      "---------------------\n",
      "Filtered: {'id': 2, 'name': 'Bob', 'salary': 60000, 'department': 'IT'}\n",
      "---------------------\n",
      "Filtered: {'id': 3, 'name': 'Charlie', 'salary': 70000, 'department': 'HR'}\n",
      "---------------------\n",
      "Filtered: {'id': 4, 'name': 'David', 'salary': 55000, 'department': 'IT'}\n",
      "---------------------\n",
      "Filtered: {'id': 5, 'name': 'Eve', 'salary': 80000, 'department': 'Finance'}\n",
      "---------------------\n",
      "Filtered: {'id': 7, 'name': 'Grace', 'salary': 65000, 'department': 'HR'}\n",
      "---------------------\n",
      "Filtered: {'id': 8, 'name': 'Heidi', 'salary': 55000, 'department': 'IT'}\n",
      "---------------------\n",
      "Filtered: {'id': 10, 'name': 'Judy', 'salary': 80000, 'department': 'Finance'}\n",
      "---------------------\n",
      "Original: {'id': 1, 'name': 'Alice', 'salary': 70000, 'department': 'HR'}\n",
      "---------------------\n",
      "Original: {'id': 2, 'name': 'Bob', 'salary': 60000, 'department': 'IT'}\n",
      "---------------------\n",
      "Original: {'id': 3, 'name': 'Charlie', 'salary': 70000, 'department': 'HR'}\n",
      "---------------------\n",
      "Original: {'id': 4, 'name': 'David', 'salary': 55000, 'department': 'IT'}\n",
      "---------------------\n",
      "Original: {'id': 5, 'name': 'Eve', 'salary': 80000, 'department': 'Finance'}\n",
      "---------------------\n",
      "Original: {'id': 6, 'name': 'Frank', 'salary': 50000, 'department': 'Finance'}\n",
      "---------------------\n",
      "Original: {'id': 7, 'name': 'Grace', 'salary': 65000, 'department': 'HR'}\n",
      "---------------------\n",
      "Original: {'id': 8, 'name': 'Heidi', 'salary': 55000, 'department': 'IT'}\n",
      "---------------------\n",
      "Original: {'id': 9, 'name': 'Ivan', 'salary': None, 'department': 'Sales'}\n",
      "---------------------\n",
      "Original: {'id': 10, 'name': 'Judy', 'salary': 80000, 'department': 'Finance'}\n",
      "---------------------\n"
     ]
    }
   ],
   "source": [
    "# 7. Given a PCollection, write an Apache Beam code to filter records where salary > 50,000.\n",
    "\n",
    "options = PipelineOptions()\n",
    "with beam.Pipeline(options=options) as pipeline:\n",
    "           # --- ORIGINAL DATA ---\n",
    "            print(\"\\n--- ORIGINAL DATA ---\")\n",
    "            (pipeline\n",
    "                 | 'CreateEmployeesOriginal' >> beam.Create(employee_data)\n",
    "                 | 'PrintOriginal' >> beam.Map(lambda x: print(f\"Original: {x}\"))\n",
    "                 | 'PrintOriginalFooter' >> beam.Map(lambda x: print(\"---------------------\")) # Footer for spacing\n",
    "            )\n",
    "            # --- FILTERED DATA (Salary > 50000) ---\n",
    "            print(\"--- FILTERED DATA (Salary > 50000) ---\\n\")\n",
    "            (pipeline\n",
    "                 | 'CreateEmployeesFilter' >> beam.Create(employee_data) # Start a new PCollection from raw data\n",
    "                 | 'FilterBySalary' >> beam.Filter(lambda record: record.get(\"salary\") is not None and record[\"salary\"] > 50000)\n",
    "                 | 'PrintFiltered' >> beam.Map(lambda x: print(f\"Filtered: {x}\"))\n",
    "                 | 'PrintFilteredFooter' >> beam.Map(lambda x: print(\"---------------------\")) # Footer for spacing\n",
    "            )\n",
    "             "
   ]
  },
  {
   "cell_type": "code",
   "execution_count": 87,
   "id": "fb1a1f59-db40-4f6c-a9f7-666b6c1476cb",
   "metadata": {
    "tags": []
   },
   "outputs": [
    {
     "name": "stderr",
     "output_type": "stream",
     "text": [
      "WARNING:apache_beam.options.pipeline_options:Discarding unparseable args: ['-f', '/home/jupyter/.local/share/jupyter/runtime/kernel-f62f1ff0-4c41-4fb4-ba3d-6d4f5eb23258.json']\n",
      "WARNING:apache_beam.options.pipeline_options:Discarding unparseable args: ['-f', '/home/jupyter/.local/share/jupyter/runtime/kernel-f62f1ff0-4c41-4fb4-ba3d-6d4f5eb23258.json']\n"
     ]
    },
    {
     "name": "stdout",
     "output_type": "stream",
     "text": [
      "[\n",
      "  {\n",
      "    \"transaction_id\": \"T2\",\n",
      "    \"store_id\": \"2\",\n",
      "    \"category_id\": \"4\",\n",
      "    \"quantity\": 1,\n",
      "    \"price\": 66.14,\n",
      "    \"timestamp\": \"2025-06-10T10:00:00\",\n",
      "    \"customer_id\": \"01\"\n",
      "  },\n",
      "  {\n",
      "    \"transaction_id\": \"T3\",\n",
      "    \"store_id\": \"4\",\n",
      "    \"category_id\": \"2\",\n",
      "    \"quantity\": 2,\n",
      "    \"price\": 223.95,\n",
      "    \"timestamp\": \"2025-06-09T10:00:00\",\n",
      "    \"customer_id\": \"02\"\n",
      "  },\n",
      "  {\n",
      "    \"transaction_id\": \"T4\",\n",
      "    \"store_id\": \"3\",\n",
      "    \"category_id\": \"2\",\n",
      "    \"quantity\": 3,\n",
      "    \"price\": 110.7,\n",
      "    \"timestamp\": \"2025-06-08T10:00:00\",\n",
      "    \"customer_id\": \"03\"\n",
      "  },\n",
      "  {\n",
      "    \"transaction_id\": \"T5\",\n",
      "    \"store_id\": \"1\",\n",
      "    \"category_id\": \"3\",\n",
      "    \"quantity\": 4,\n",
      "    \"price\": 121.24,\n",
      "    \"timestamp\": \"2025-06-07T10:00:00\",\n",
      "    \"customer_id\": \"04\"\n",
      "  },\n",
      "  {\n",
      "    \"transaction_id\": \"T6\",\n",
      "    \"store_id\": \"2\",\n",
      "    \"category_id\": \"2\",\n",
      "    \"quantity\": 5,\n",
      "    \"price\": 25.14,\n",
      "    \"timestamp\": \"2025-06-06T10:00:00\",\n",
      "    \"customer_id\": \"05\"\n",
      "  },\n",
      "  {\n",
      "    \"transaction_id\": \"T7\",\n",
      "    \"store_id\": \"4\",\n",
      "    \"category_id\": \"4\",\n",
      "    \"quantity\": 6,\n",
      "    \"price\": 42.59,\n",
      "    \"timestamp\": \"2025-06-05T10:00:00\",\n",
      "    \"customer_id\": \"06\"\n",
      "  },\n",
      "  {\n",
      "    \"transaction_id\": \"T8\",\n",
      "    \"store_id\": \"2\",\n",
      "    \"category_id\": \"1\",\n",
      "    \"quantity\": 7,\n",
      "    \"price\": 71.34,\n",
      "    \"timestamp\": \"2025-06-04T10:00:00\",\n",
      "    \"customer_id\": \"07\"\n",
      "  },\n",
      "  {\n",
      "    \"transaction_id\": \"T9\",\n",
      "    \"store_id\": \"4\",\n",
      "    \"category_id\": \"1\",\n",
      "    \"quantity\": 8,\n",
      "    \"price\": 34.22,\n",
      "    \"timestamp\": \"2025-06-03T10:00:00\",\n",
      "    \"customer_id\": \"08\"\n",
      "  },\n",
      "  {\n",
      "    \"transaction_id\": \"T10\",\n",
      "    \"store_id\": \"2\",\n",
      "    \"category_id\": \"2\",\n",
      "    \"quantity\": 9,\n",
      "    \"price\": 19.56,\n",
      "    \"timestamp\": \"2025-06-02T10:00:00\",\n",
      "    \"customer_id\": \"09\"\n",
      "  },\n",
      "  {\n",
      "    \"transaction_id\": \"T11\",\n",
      "    \"store_id\": \"3\",\n",
      "    \"category_id\": \"4\",\n",
      "    \"quantity\": 10,\n",
      "    \"price\": 10.84,\n",
      "    \"timestamp\": \"2025-06-01T10:00:00\",\n",
      "    \"customer_id\": \"10\"\n",
      "  }\n",
      "]\n"
     ]
    }
   ],
   "source": [
    "# 8. Write an Apache Beam job to read a JSON file and convert it into a PCollection.\n",
    "import json\n",
    "options = PipelineOptions()\n",
    "with beam.Pipeline(options=options) as pipeline:\n",
    " # If you were reading from a file, it would look like this:\n",
    "            (pipeline\n",
    "                | 'ReadJsonLines' >> beam.io.ReadFromText('gs://scoups/raw/sample_file01.json')\n",
    "                | 'PrintResult' >> beam.Map(print)\n",
    "            )"
   ]
  },
  {
   "cell_type": "code",
   "execution_count": 88,
   "id": "a012cc56-36bc-46f0-830a-6bb280ac8ebc",
   "metadata": {
    "tags": []
   },
   "outputs": [
    {
     "name": "stderr",
     "output_type": "stream",
     "text": [
      "WARNING:apache_beam.options.pipeline_options:Discarding unparseable args: ['-f', '/home/jupyter/.local/share/jupyter/runtime/kernel-f62f1ff0-4c41-4fb4-ba3d-6d4f5eb23258.json']\n",
      "WARNING:apache_beam.transforms.core:('No iterator is returned by the process method in %s.', <class 'apache_beam.transforms.combiners._TopPerBundle'>)\n",
      "WARNING:apache_beam.options.pipeline_options:Discarding unparseable args: ['-f', '/home/jupyter/.local/share/jupyter/runtime/kernel-f62f1ff0-4c41-4fb4-ba3d-6d4f5eb23258.json']\n"
     ]
    },
    {
     "name": "stdout",
     "output_type": "stream",
     "text": [
      "70000\n"
     ]
    }
   ],
   "source": [
    "# 9. Write an Apache Beam query to find the second highest salary from an employee PCollection.\n",
    "\n",
    "options = PipelineOptions()\n",
    "with beam.Pipeline(options=options) as pipeline:\n",
    "            (pipeline\n",
    "                 | 'CreateEmployees' >> beam.Create(employee_data)\n",
    "                 | 'FilterNotNullSalary' >> beam.Filter(lambda record: record.get(\"salary\") is not None)\n",
    "                 | 'ExtractSalaries' >> beam.Map(lambda record: record[\"salary\"])\n",
    "                 | 'DistinctSalaries' >> beam.Distinct()\n",
    "                 | 'FindTop2Salaries' >> beam.combiners.Top.Of(2, key=lambda x: x) # Gets the 2 highest distinct salaries\n",
    "                 | 'ExtractSecondHighest' >> beam.Map(lambda top_salaries_list: top_salaries_list[1] if len(top_salaries_list) > 1 else None)\n",
    "                 | 'PrintResult' >> beam.Map(print)\n",
    "            )\n"
   ]
  },
  {
   "cell_type": "code",
   "execution_count": 90,
   "id": "9b0218a6-adff-47a6-8c1b-7c0ed095adae",
   "metadata": {
    "tags": []
   },
   "outputs": [
    {
     "name": "stderr",
     "output_type": "stream",
     "text": [
      "WARNING:apache_beam.options.pipeline_options:Discarding unparseable args: ['-f', '/home/jupyter/.local/share/jupyter/runtime/kernel-f62f1ff0-4c41-4fb4-ba3d-6d4f5eb23258.json']\n",
      "WARNING:apache_beam.options.pipeline_options:Discarding unparseable args: ['-f', '/home/jupyter/.local/share/jupyter/runtime/kernel-f62f1ff0-4c41-4fb4-ba3d-6d4f5eb23258.json']\n"
     ]
    },
    {
     "name": "stdout",
     "output_type": "stream",
     "text": [
      "{'name': 'Alice', 'department': 'HR', 'location': 'North Building', 'headcount': 100}\n",
      "{'name': 'Charlie', 'department': 'HR', 'location': 'North Building', 'headcount': 100}\n",
      "{'name': 'Grace', 'department': 'HR', 'location': 'North Building', 'headcount': 100}\n",
      "{'name': 'Bob', 'department': 'IT', 'location': 'South Building', 'headcount': 150}\n",
      "{'name': 'David', 'department': 'IT', 'location': 'South Building', 'headcount': 150}\n",
      "{'name': 'Heidi', 'department': 'IT', 'location': 'South Building', 'headcount': 150}\n",
      "{'name': 'Eve', 'department': 'Finance', 'location': 'East Building', 'headcount': 80}\n",
      "{'name': 'Frank', 'department': 'Finance', 'location': 'East Building', 'headcount': 80}\n",
      "{'name': 'Judy', 'department': 'Finance', 'location': 'East Building', 'headcount': 80}\n",
      "{'name': 'Ivan', 'department': 'Sales', 'location': 'West Building', 'headcount': 120}\n"
     ]
    }
   ],
   "source": [
    "# 10. Write an Apache Beam job to join two PCollections and select specific columns.\n",
    "options = PipelineOptions()\n",
    "with beam.Pipeline(options=options) as pipeline:\n",
    "    department_info_data = [\n",
    "            {\"department\": \"HR\", \"location\": \"North Building\", \"headcount\": 100},\n",
    "            {\"department\": \"IT\", \"location\": \"South Building\", \"headcount\": 150},\n",
    "            {\"department\": \"Finance\", \"location\": \"East Building\", \"headcount\": 80},\n",
    "            {\"department\": \"Sales\", \"location\": \"West Building\", \"headcount\": 120} # No matching employees in this example\n",
    "    ]\n",
    "    \n",
    "    # Prepare PCollections for join: (key, value) pairs\n",
    "    employees_keyed = (pipeline\n",
    "                           | 'CreateEmployees' >> beam.Create(employee_data)\n",
    "                           | 'KeyEmployeesByDept' >> beam.Map(lambda emp: (emp[\"department\"], emp)))\n",
    "        \n",
    "    departments_keyed = (pipeline\n",
    "                             | 'CreateDeptInfo' >> beam.Create(department_info_data)\n",
    "                             | 'KeyDepartmentsByDept' >> beam.Map(lambda dept: (dept[\"department\"], dept)))\n",
    "\n",
    "        # CoGroupByKey to perform the join\n",
    "    joined_pcoll = ({'employees': employees_keyed, 'departments': departments_keyed}\n",
    "                        | 'CoGroup' >> beam.CoGroupByKey())\n",
    "        \n",
    "        # Process the joined result to flatten and select specific columns\n",
    "    select_cols = [\"name\", \"department\", \"location\", \"headcount\"]\n",
    "    (joined_pcoll\n",
    "         | 'ProcessJoinedData' >> beam.FlatMap(lambda element: [\n",
    "             # This inner loop ensures we only combine when both employee and department info exist\n",
    "             {col: ({**emp, **dept_info}).get(col) for col in select_cols}\n",
    "             for emp in element[1]['employees']\n",
    "             for dept_info in element[1]['departments']\n",
    "         ])\n",
    "         | 'PrintResult' >> beam.Map(print)\n",
    "        )"
   ]
  },
  {
   "cell_type": "code",
   "execution_count": null,
   "id": "ba442b30-d878-4b6a-8d42-6eb9b3b3ba3a",
   "metadata": {},
   "outputs": [],
   "source": []
  }
 ],
 "metadata": {
  "environment": {
   "kernel": "apache-beam-2.61.0",
   "name": ".m127",
   "type": "gcloud",
   "uri": "us-docker.pkg.dev/deeplearning-platform-release/gcr.io/:m127"
  },
  "kernelspec": {
   "display_name": "Apache Beam 2.61.0 (Local)",
   "language": "python",
   "name": "apache-beam-2.61.0"
  },
  "language_info": {
   "codemirror_mode": {
    "name": "ipython",
    "version": 3
   },
   "file_extension": ".py",
   "mimetype": "text/x-python",
   "name": "python",
   "nbconvert_exporter": "python",
   "pygments_lexer": "ipython3",
   "version": "3.10.15"
  }
 },
 "nbformat": 4,
 "nbformat_minor": 5
}
